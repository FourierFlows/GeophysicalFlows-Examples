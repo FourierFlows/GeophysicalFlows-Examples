{
 "cells": [
  {
   "cell_type": "markdown",
   "metadata": {},
   "source": [
    "# Demonstration of Rossby waves phase and group speeds"
   ]
  },
  {
   "cell_type": "markdown",
   "metadata": {},
   "source": [
    "We demonstrate here the difference between Rossby phase speed and the Rossby group velocity on a barotropic beta-plane."
   ]
  },
  {
   "cell_type": "markdown",
   "metadata": {},
   "source": [
    "Rossby waves obey the dispersion relation\n",
    "\n",
    "$$\n",
    "\\omega(\\boldsymbol{k}) = -\\frac{\\beta k_x}{k_x^2+k_y^2}\n",
    "$$\n",
    "\n",
    "This dispersion relation implies that the Rossby phase speed is:\n",
    "\n",
    "$$\n",
    "{\\boldsymbol{c}}_{\\rm phase} = \\big( \\frac{\\omega}{k_x}, \\frac{\\omega}{k_y} \\big) =  -\\frac{\\beta}{k^2} \\big( 1 , \\tan\\theta\\big)\n",
    "$$\n",
    "\n",
    "where $k\\equiv |\\boldsymbol{k}|$ and angle $\\theta$ is defined through $\\tan\\theta = k_y/k_y$. Therefore, the phase speed is in the direction of the wavevector $\\boldsymbol{k}$.\n",
    "\n",
    "The group speed, on the other hand, is given through:\n",
    "\n",
    "$$\n",
    "{\\boldsymbol{c}}_{\\rm group} = \\big( \\frac{\\partial\\omega}{\\partial k_x}, \\frac{\\partial\\omega}{\\partial k_y} \\big) =  \\frac{\\beta}{k^2}\\big(\\cos 2\\theta, \\sin 2\\theta\\big),\n",
    "$$\n",
    "\n",
    "and thus generally points is not colinear with $\\boldsymbol{c}_{\\rm phase}$. The figure below demonstrates the relation of $\\boldsymbol{k}$, $\\boldsymbol{c}_{\\rm phase}$, and $\\boldsymbol{c}_{\\rm group}$.\n",
    "\n",
    "<img src=\"assets/rossbydispersion.png\" width=85%>"
   ]
  },
  {
   "cell_type": "code",
   "execution_count": 1,
   "metadata": {},
   "outputs": [],
   "source": [
    "using Pkg\n",
    "Pkg.activate(\"../.\")\n",
    "\n",
    "using GeophysicalFlows, PyPlot, FourierFlows\n",
    "\n",
    "import GeophysicalFlows.BarotropicQG\n",
    "import FFTW: rfft, irfft, fftshift\n",
    "import LinearAlgebra: norm"
   ]
  },
  {
   "cell_type": "code",
   "execution_count": 2,
   "metadata": {},
   "outputs": [],
   "source": [
    "# Numerical parameters and time-stepping parameters\n",
    "nx  = 128      # 2D resolution = nx^2\n",
    "stepper = \"FilteredETDRK4\"   # timestepper\n",
    "dt  = 0.25     # timestep\n",
    "nsteps = 100   # total number of time-steps\n",
    "nsubs  = 1     # number of time-steps for plotting\n",
    "               # (nsteps must be multiple of nsubs)\n",
    "\n",
    "# Physical parameters\n",
    " Lx  = 2π      # domain size\n",
    "beta = 15.0    # planetary PV gradient\n",
    "\n",
    "# Initialize problem\n",
    "prob = BarotropicQG.InitialValueProblem(nx=nx, Lx=Lx, beta=beta, dt=dt, stepper=stepper)\n",
    "sol, cl, v, p, g = prob.sol, prob.clock, prob.vars, prob.params, prob.grid\n",
    "\n",
    "x, y = gridpoints(g);"
   ]
  },
  {
   "cell_type": "markdown",
   "metadata": {},
   "source": [
    "Now let's construct a gaussian vorticity wavepacket:\n",
    "    \n",
    "$$\n",
    " \\zeta(x, y, t=0) =  \\mathrm{Re}\\big[ \\zeta_0\\,e^{-(x^2+y^2)/(2\\sigma^2)} e^{\\mathrm{i}(k_{x0} x+ k_{y0} y)} \\big].\n",
    "$$"
   ]
  },
  {
   "cell_type": "code",
   "execution_count": 3,
   "metadata": {},
   "outputs": [
    {
     "data": {
      "image/png": "[encoded data removed]",
      "text/plain": [
       "Figure(PyObject <matplotlib.figure.Figure object at 0x13014bc10>)"
      ]
     },
     "metadata": {},
     "output_type": "display_data"
    }
   ],
   "source": [
    "k = 15                         # total wavenumber\n",
    "θ = 20*pi/180                  # wavevector's angle (in radians)\n",
    "kx0, ky0 = k*cos(θ), k*sin(θ)  # the wavevector\n",
    "ω = -beta*kx0/k^2              # the Rossby frequeency\n",
    "\n",
    "ζ0 = 1e-7 # wave amplitude; small amplitude to ensure linearity\n",
    "\n",
    "σ = Lx/10 # gaussian envelopes variance\n",
    "\n",
    "ζ = @. real(ζ0*exp(-(x^2+y^2)/(2σ^2))*exp(im*(kx0*x+ky0*y)))\n",
    "\n",
    "maxvalue = maximum(abs.(ζ))\n",
    "levels = range(-maxvalue, maxvalue, length=12)\n",
    "\n",
    "\n",
    "figure(1)\n",
    "contourf(x, y, ζ, levels, cmap=\"RdBu_r\")\n",
    "axis(\"square\")\n",
    "xlabel(L\"$x$\")\n",
    "ylabel(L\"$y$\")\n",
    "title(\"a vorticity wavepacket\");"
   ]
  },
  {
   "cell_type": "markdown",
   "metadata": {},
   "source": [
    "Our wavepacket resembles the configuration depicted in the left panel of the figure above. \n",
    "\n",
    "The Rossby frequency, phase speed, group speed that correspond to our wavenumber choice are:"
   ]
  },
  {
   "cell_type": "code",
   "execution_count": 4,
   "metadata": {},
   "outputs": [
    {
     "name": "stdout",
     "output_type": "stream",
     "text": [
      "ω = -0.94\n",
      "β = 15.0\n",
      "c_phase = (-0.07, -0.18)\n",
      "c_group = (0.05, 0.04)\n"
     ]
    }
   ],
   "source": [
    "cphase = @. [ω/kx0, ω/ky0]\n",
    "cgroup = @. [beta*(kx0^2-ky0^2)/k^4, 2*beta*kx0*ky0/k^4]\n",
    "\n",
    "println(\"ω = \", round(ω, digits=2))\n",
    "println(\"β = \", round(beta, digits=2))\n",
    "println(\"c_phase = (\", round(cphase[1], digits=2), \", \", round(cphase[2], digits=2), \")\")\n",
    "println(\"c_group = (\", round(cgroup[1], digits=2), \", \", round(cgroup[2], digits=2), \")\")\n"
   ]
  },
  {
   "cell_type": "code",
   "execution_count": null,
   "metadata": {},
   "outputs": [],
   "source": [
    "BarotropicQG.set_zeta!(prob, ζ)  # setting the initial condition in our barotropic QG model\n",
    "\n",
    "fig = figure(1, figsize=(5, 5))\n",
    "\n",
    "while cl.step < nsteps\n",
    "    stepforward!(prob, nsubs)    \n",
    "    t = cl.t\n",
    "    cla()\n",
    "    IJulia.clear_output(true)\n",
    "    contourf(x, y, irfft(sol, g.nx), levels, cmap=\"RdBu_r\")\n",
    "    plot(0, 0, \"o\", linewidth=2, markersize=6, color=\"gray\")\n",
    "    plot(cgroup[1]*t, cgroup[2]*t, \"o\", linewidth=2, markersize=6, color=\"black\")\n",
    "    \n",
    "    arrow(t*cgroup[1], t*cgroup[2], cgroup[1]/norm(cgroup), cgroup[2]/norm(cgroup), head_width=0.1, head_length=0.2, fc=\"b\", ec=\"b\")\n",
    "    text(cgroup[1]*t+0.8, cgroup[2]*t+0.8, L\"$c_{\\rm group}$\", color=\"b\", fontsize=14)\n",
    "    \n",
    "    arrow(t*cgroup[1], t*cgroup[2], cphase[1]/norm(cphase), cphase[2]/norm(cphase), head_width=0.1, head_length=0.2, fc=\"r\", ec=\"r\")\n",
    "    text(cphase[1]/norm(cphase) + cgroup[1]*t-0.3, cphase[1]/norm(cphase) + cgroup[2]*t-1.1, L\"$c_{\\rm phase}$\", color=\"r\", fontsize=14)\n",
    "    \n",
    "    axis(\"equal\")\n",
    "    xlabel(L\"$x$\")\n",
    "    ylabel(L\"$y$\")\n",
    "    title(\"wavepacket on a beta-plane\")\n",
    "    display(fig);\n",
    "\n",
    "end"
   ]
  },
  {
   "cell_type": "code",
   "execution_count": null,
   "metadata": {},
   "outputs": [],
   "source": []
  }
 ],
 "metadata": {
  "kernelspec": {
   "display_name": "Julia 1.1.0",
   "language": "julia",
   "name": "julia-1.1"
  },
  "language_info": {
   "file_extension": ".jl",
   "mimetype": "application/julia",
   "name": "julia",
   "version": "1.1.0"
  }
 },
 "nbformat": 4,
 "nbformat_minor": 2
}
